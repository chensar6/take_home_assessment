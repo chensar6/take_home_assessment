{
  "nbformat": 4,
  "nbformat_minor": 0,
  "metadata": {
    "colab": {
      "provenance": [],
      "collapsed_sections": []
    },
    "kernelspec": {
      "name": "python3",
      "display_name": "Python 3"
    },
    "language_info": {
      "name": "python"
    }
  },
  "cells": [
    {
      "cell_type": "markdown",
      "source": [
        "# importing"
      ],
      "metadata": {
        "id": "Ew-N7n_2oIJw"
      }
    },
    {
      "cell_type": "code",
      "source": [
        "import matplotlib.pyplot as plt\n",
        "import numpy as np\n",
        "import pandas as pd\n",
        "import seaborn as sns\n",
        "from sklearn.feature_selection import f_classif\n",
        "from numpy.ma.extras import median\n",
        "from sklearn.impute import SimpleImputer as Imputer"
      ],
      "metadata": {
        "id": "twjxGqDxoJmy"
      },
      "execution_count": 12,
      "outputs": []
    },
    {
      "cell_type": "code",
      "source": [
        "# https://drive.google.com/file/d/1SnpMvRRAXwZs_LHWeprA0bv_LJlqgyQx/view?usp=share_link\n",
        "train_df = pd.read_csv('https://docs.google.com/uc?export=download&id=1SnpMvRRAXwZs_LHWeprA0bv_LJlqgyQx&export=download', header = 0) \n",
        "train_df.drop(columns = 'Unnamed: 0', inplace = True)\n",
        "\n",
        "# https://drive.google.com/file/d/1hE7Ph-jnW8ovTS35n-ufi9PGpdSX3JGr/view?usp=share_link\n",
        "test_df = pd.read_csv('https://docs.google.com/uc?export=download&id=1hE7Ph-jnW8ovTS35n-ufi9PGpdSX3JGr&export=download', header = 0) \n",
        "test_df.drop(columns = 'Unnamed: 0', inplace = True)\n",
        "\n",
        "train_df.head()\n",
        "# test_df.head()"
      ],
      "metadata": {
        "colab": {
          "base_uri": "https://localhost:8080/",
          "height": 288
        },
        "id": "hCAFWKeMtE4A",
        "outputId": "e8720073-942b-4ef0-f31a-743512ff8bd0"
      },
      "execution_count": 13,
      "outputs": [
        {
          "output_type": "execute_result",
          "data": {
            "text/plain": [
              "   SeriousDlqin2yrs  RevolvingUtilizationOfUnsecuredLines  age  \\\n",
              "0                 1                              0.766127   45   \n",
              "1                 0                              0.957151   40   \n",
              "2                 0                              0.658180   38   \n",
              "3                 0                              0.233810   30   \n",
              "4                 0                              0.907239   49   \n",
              "\n",
              "   NumberOfTime30-59DaysPastDueNotWorse  DebtRatio  MonthlyIncome  \\\n",
              "0                                     2   0.802982         9120.0   \n",
              "1                                     0   0.121876         2600.0   \n",
              "2                                     1   0.085113         3042.0   \n",
              "3                                     0   0.036050         3300.0   \n",
              "4                                     1   0.024926        63588.0   \n",
              "\n",
              "   NumberOfOpenCreditLinesAndLoans  NumberOfTimes90DaysLate  \\\n",
              "0                               13                        0   \n",
              "1                                4                        0   \n",
              "2                                2                        1   \n",
              "3                                5                        0   \n",
              "4                                7                        0   \n",
              "\n",
              "   NumberRealEstateLoansOrLines  NumberOfTime60-89DaysPastDueNotWorse  \\\n",
              "0                             6                                     0   \n",
              "1                             0                                     0   \n",
              "2                             0                                     0   \n",
              "3                             0                                     0   \n",
              "4                             1                                     0   \n",
              "\n",
              "   NumberOfDependents  \n",
              "0                 2.0  \n",
              "1                 1.0  \n",
              "2                 0.0  \n",
              "3                 0.0  \n",
              "4                 0.0  "
            ],
            "text/html": [
              "\n",
              "  <div id=\"df-9759a9f2-ef47-4cc9-81b7-22bade3cba98\">\n",
              "    <div class=\"colab-df-container\">\n",
              "      <div>\n",
              "<style scoped>\n",
              "    .dataframe tbody tr th:only-of-type {\n",
              "        vertical-align: middle;\n",
              "    }\n",
              "\n",
              "    .dataframe tbody tr th {\n",
              "        vertical-align: top;\n",
              "    }\n",
              "\n",
              "    .dataframe thead th {\n",
              "        text-align: right;\n",
              "    }\n",
              "</style>\n",
              "<table border=\"1\" class=\"dataframe\">\n",
              "  <thead>\n",
              "    <tr style=\"text-align: right;\">\n",
              "      <th></th>\n",
              "      <th>SeriousDlqin2yrs</th>\n",
              "      <th>RevolvingUtilizationOfUnsecuredLines</th>\n",
              "      <th>age</th>\n",
              "      <th>NumberOfTime30-59DaysPastDueNotWorse</th>\n",
              "      <th>DebtRatio</th>\n",
              "      <th>MonthlyIncome</th>\n",
              "      <th>NumberOfOpenCreditLinesAndLoans</th>\n",
              "      <th>NumberOfTimes90DaysLate</th>\n",
              "      <th>NumberRealEstateLoansOrLines</th>\n",
              "      <th>NumberOfTime60-89DaysPastDueNotWorse</th>\n",
              "      <th>NumberOfDependents</th>\n",
              "    </tr>\n",
              "  </thead>\n",
              "  <tbody>\n",
              "    <tr>\n",
              "      <th>0</th>\n",
              "      <td>1</td>\n",
              "      <td>0.766127</td>\n",
              "      <td>45</td>\n",
              "      <td>2</td>\n",
              "      <td>0.802982</td>\n",
              "      <td>9120.0</td>\n",
              "      <td>13</td>\n",
              "      <td>0</td>\n",
              "      <td>6</td>\n",
              "      <td>0</td>\n",
              "      <td>2.0</td>\n",
              "    </tr>\n",
              "    <tr>\n",
              "      <th>1</th>\n",
              "      <td>0</td>\n",
              "      <td>0.957151</td>\n",
              "      <td>40</td>\n",
              "      <td>0</td>\n",
              "      <td>0.121876</td>\n",
              "      <td>2600.0</td>\n",
              "      <td>4</td>\n",
              "      <td>0</td>\n",
              "      <td>0</td>\n",
              "      <td>0</td>\n",
              "      <td>1.0</td>\n",
              "    </tr>\n",
              "    <tr>\n",
              "      <th>2</th>\n",
              "      <td>0</td>\n",
              "      <td>0.658180</td>\n",
              "      <td>38</td>\n",
              "      <td>1</td>\n",
              "      <td>0.085113</td>\n",
              "      <td>3042.0</td>\n",
              "      <td>2</td>\n",
              "      <td>1</td>\n",
              "      <td>0</td>\n",
              "      <td>0</td>\n",
              "      <td>0.0</td>\n",
              "    </tr>\n",
              "    <tr>\n",
              "      <th>3</th>\n",
              "      <td>0</td>\n",
              "      <td>0.233810</td>\n",
              "      <td>30</td>\n",
              "      <td>0</td>\n",
              "      <td>0.036050</td>\n",
              "      <td>3300.0</td>\n",
              "      <td>5</td>\n",
              "      <td>0</td>\n",
              "      <td>0</td>\n",
              "      <td>0</td>\n",
              "      <td>0.0</td>\n",
              "    </tr>\n",
              "    <tr>\n",
              "      <th>4</th>\n",
              "      <td>0</td>\n",
              "      <td>0.907239</td>\n",
              "      <td>49</td>\n",
              "      <td>1</td>\n",
              "      <td>0.024926</td>\n",
              "      <td>63588.0</td>\n",
              "      <td>7</td>\n",
              "      <td>0</td>\n",
              "      <td>1</td>\n",
              "      <td>0</td>\n",
              "      <td>0.0</td>\n",
              "    </tr>\n",
              "  </tbody>\n",
              "</table>\n",
              "</div>\n",
              "      <button class=\"colab-df-convert\" onclick=\"convertToInteractive('df-9759a9f2-ef47-4cc9-81b7-22bade3cba98')\"\n",
              "              title=\"Convert this dataframe to an interactive table.\"\n",
              "              style=\"display:none;\">\n",
              "        \n",
              "  <svg xmlns=\"http://www.w3.org/2000/svg\" height=\"24px\"viewBox=\"0 0 24 24\"\n",
              "       width=\"24px\">\n",
              "    <path d=\"M0 0h24v24H0V0z\" fill=\"none\"/>\n",
              "    <path d=\"M18.56 5.44l.94 2.06.94-2.06 2.06-.94-2.06-.94-.94-2.06-.94 2.06-2.06.94zm-11 1L8.5 8.5l.94-2.06 2.06-.94-2.06-.94L8.5 2.5l-.94 2.06-2.06.94zm10 10l.94 2.06.94-2.06 2.06-.94-2.06-.94-.94-2.06-.94 2.06-2.06.94z\"/><path d=\"M17.41 7.96l-1.37-1.37c-.4-.4-.92-.59-1.43-.59-.52 0-1.04.2-1.43.59L10.3 9.45l-7.72 7.72c-.78.78-.78 2.05 0 2.83L4 21.41c.39.39.9.59 1.41.59.51 0 1.02-.2 1.41-.59l7.78-7.78 2.81-2.81c.8-.78.8-2.07 0-2.86zM5.41 20L4 18.59l7.72-7.72 1.47 1.35L5.41 20z\"/>\n",
              "  </svg>\n",
              "      </button>\n",
              "      \n",
              "  <style>\n",
              "    .colab-df-container {\n",
              "      display:flex;\n",
              "      flex-wrap:wrap;\n",
              "      gap: 12px;\n",
              "    }\n",
              "\n",
              "    .colab-df-convert {\n",
              "      background-color: #E8F0FE;\n",
              "      border: none;\n",
              "      border-radius: 50%;\n",
              "      cursor: pointer;\n",
              "      display: none;\n",
              "      fill: #1967D2;\n",
              "      height: 32px;\n",
              "      padding: 0 0 0 0;\n",
              "      width: 32px;\n",
              "    }\n",
              "\n",
              "    .colab-df-convert:hover {\n",
              "      background-color: #E2EBFA;\n",
              "      box-shadow: 0px 1px 2px rgba(60, 64, 67, 0.3), 0px 1px 3px 1px rgba(60, 64, 67, 0.15);\n",
              "      fill: #174EA6;\n",
              "    }\n",
              "\n",
              "    [theme=dark] .colab-df-convert {\n",
              "      background-color: #3B4455;\n",
              "      fill: #D2E3FC;\n",
              "    }\n",
              "\n",
              "    [theme=dark] .colab-df-convert:hover {\n",
              "      background-color: #434B5C;\n",
              "      box-shadow: 0px 1px 3px 1px rgba(0, 0, 0, 0.15);\n",
              "      filter: drop-shadow(0px 1px 2px rgba(0, 0, 0, 0.3));\n",
              "      fill: #FFFFFF;\n",
              "    }\n",
              "  </style>\n",
              "\n",
              "      <script>\n",
              "        const buttonEl =\n",
              "          document.querySelector('#df-9759a9f2-ef47-4cc9-81b7-22bade3cba98 button.colab-df-convert');\n",
              "        buttonEl.style.display =\n",
              "          google.colab.kernel.accessAllowed ? 'block' : 'none';\n",
              "\n",
              "        async function convertToInteractive(key) {\n",
              "          const element = document.querySelector('#df-9759a9f2-ef47-4cc9-81b7-22bade3cba98');\n",
              "          const dataTable =\n",
              "            await google.colab.kernel.invokeFunction('convertToInteractive',\n",
              "                                                     [key], {});\n",
              "          if (!dataTable) return;\n",
              "\n",
              "          const docLinkHtml = 'Like what you see? Visit the ' +\n",
              "            '<a target=\"_blank\" href=https://colab.research.google.com/notebooks/data_table.ipynb>data table notebook</a>'\n",
              "            + ' to learn more about interactive tables.';\n",
              "          element.innerHTML = '';\n",
              "          dataTable['output_type'] = 'display_data';\n",
              "          await google.colab.output.renderOutput(dataTable, element);\n",
              "          const docLink = document.createElement('div');\n",
              "          docLink.innerHTML = docLinkHtml;\n",
              "          element.appendChild(docLink);\n",
              "        }\n",
              "      </script>\n",
              "    </div>\n",
              "  </div>\n",
              "  "
            ]
          },
          "metadata": {},
          "execution_count": 13
        }
      ]
    },
    {
      "cell_type": "markdown",
      "source": [
        "# clean data set"
      ],
      "metadata": {
        "id": "eGwSqe0bEays"
      }
    },
    {
      "cell_type": "code",
      "source": [
        "# need to check to see if there are any null values so we can impute using median strategy\n",
        "print(train_df.isnull().any())"
      ],
      "metadata": {
        "colab": {
          "base_uri": "https://localhost:8080/"
        },
        "id": "j5AWZIguEcT7",
        "outputId": "d8a73356-70f4-4f72-bd4b-23ae18f8d976"
      },
      "execution_count": 14,
      "outputs": [
        {
          "output_type": "stream",
          "name": "stdout",
          "text": [
            "SeriousDlqin2yrs                        False\n",
            "RevolvingUtilizationOfUnsecuredLines    False\n",
            "age                                     False\n",
            "NumberOfTime30-59DaysPastDueNotWorse    False\n",
            "DebtRatio                               False\n",
            "MonthlyIncome                            True\n",
            "NumberOfOpenCreditLinesAndLoans         False\n",
            "NumberOfTimes90DaysLate                 False\n",
            "NumberRealEstateLoansOrLines            False\n",
            "NumberOfTime60-89DaysPastDueNotWorse    False\n",
            "NumberOfDependents                       True\n",
            "dtype: bool\n"
          ]
        }
      ]
    },
    {
      "cell_type": "code",
      "source": [
        "num_cols = ['MonthlyIncome', 'NumberOfDependents']\n",
        "imp_median = Imputer(strategy='median')  # Initialize imputer\n",
        "imp_median.fit(train_df[num_cols])  # \"fit\" the imputer to the data to learn the mode of each column\n",
        "\n",
        "# Apply the imputer to your data according to the strategy it was \"fit\" with\n",
        "train_df[num_cols] = imp_median.transform(train_df[num_cols])"
      ],
      "metadata": {
        "id": "MbSbopmGEg97"
      },
      "execution_count": 15,
      "outputs": []
    },
    {
      "cell_type": "code",
      "source": [
        "print(train_df.isnull().any())"
      ],
      "metadata": {
        "colab": {
          "base_uri": "https://localhost:8080/"
        },
        "id": "OgdhoZ0CEkAD",
        "outputId": "fadff085-2b95-4822-c795-ef2567be639d"
      },
      "execution_count": 16,
      "outputs": [
        {
          "output_type": "stream",
          "name": "stdout",
          "text": [
            "SeriousDlqin2yrs                        False\n",
            "RevolvingUtilizationOfUnsecuredLines    False\n",
            "age                                     False\n",
            "NumberOfTime30-59DaysPastDueNotWorse    False\n",
            "DebtRatio                               False\n",
            "MonthlyIncome                           False\n",
            "NumberOfOpenCreditLinesAndLoans         False\n",
            "NumberOfTimes90DaysLate                 False\n",
            "NumberRealEstateLoansOrLines            False\n",
            "NumberOfTime60-89DaysPastDueNotWorse    False\n",
            "NumberOfDependents                      False\n",
            "dtype: bool\n"
          ]
        }
      ]
    },
    {
      "cell_type": "code",
      "source": [
        "X_train = train_df.drop(columns=['SeriousDlqin2yrs'])\n",
        "y_train = train_df.loc[:,'SeriousDlqin2yrs']\n",
        "\n",
        "# X_train\n",
        "# y_train"
      ],
      "metadata": {
        "id": "hJbS3B4oEkYc"
      },
      "execution_count": 17,
      "outputs": []
    },
    {
      "cell_type": "markdown",
      "source": [
        "# correlations"
      ],
      "metadata": {
        "id": "J-pD9WUyu8BI"
      }
    },
    {
      "cell_type": "code",
      "source": [
        "correlations = train_df.corr()\n",
        "\n",
        "# correlations\n",
        "corr = correlations[\"SeriousDlqin2yrs\"].sort_values(ascending=False).drop(['SeriousDlqin2yrs'])\n",
        "print(f'correlations ------------------------------------- \\n{corr}\\n\\n')\n",
        "\n",
        "# absolute correlations\n",
        "abs_corr = corr.abs().sort_values(ascending = False)\n",
        "print(f'absolute correlations ---------------------------- \\n{abs_corr}\\n\\n')\n",
        "\n",
        "sns.heatmap(correlations)\n",
        "plt.show()"
      ],
      "metadata": {
        "colab": {
          "base_uri": "https://localhost:8080/",
          "height": 964
        },
        "id": "_ayY5papu615",
        "outputId": "97035d93-2920-4020-e41d-451651316811"
      },
      "execution_count": 18,
      "outputs": [
        {
          "output_type": "stream",
          "name": "stdout",
          "text": [
            "correlations ------------------------------------- \n",
            "NumberOfTime30-59DaysPastDueNotWorse    0.125587\n",
            "NumberOfTimes90DaysLate                 0.117175\n",
            "NumberOfTime60-89DaysPastDueNotWorse    0.102261\n",
            "NumberOfDependents                      0.046869\n",
            "RevolvingUtilizationOfUnsecuredLines   -0.001802\n",
            "NumberRealEstateLoansOrLines           -0.007038\n",
            "DebtRatio                              -0.007602\n",
            "MonthlyIncome                          -0.017151\n",
            "NumberOfOpenCreditLinesAndLoans        -0.029669\n",
            "age                                    -0.115386\n",
            "Name: SeriousDlqin2yrs, dtype: float64\n",
            "\n",
            "\n",
            "absolute correlations ---------------------------- \n",
            "NumberOfTime30-59DaysPastDueNotWorse    0.125587\n",
            "NumberOfTimes90DaysLate                 0.117175\n",
            "age                                     0.115386\n",
            "NumberOfTime60-89DaysPastDueNotWorse    0.102261\n",
            "NumberOfDependents                      0.046869\n",
            "NumberOfOpenCreditLinesAndLoans         0.029669\n",
            "MonthlyIncome                           0.017151\n",
            "DebtRatio                               0.007602\n",
            "NumberRealEstateLoansOrLines            0.007038\n",
            "RevolvingUtilizationOfUnsecuredLines    0.001802\n",
            "Name: SeriousDlqin2yrs, dtype: float64\n",
            "\n",
            "\n"
          ]
        },
        {
          "output_type": "display_data",
          "data": {
            "text/plain": [
              "<Figure size 432x288 with 2 Axes>"
            ],
            "image/png": "[encoded data removed]"
          },
          "metadata": {
            "needs_background": "light"
          }
        }
      ]
    },
    {
      "cell_type": "markdown",
      "source": [
        "The top 3 features that have the highest absolute correlation with the probability of loan default is \n",
        "\n",
        "1.   NumberOfTime30-59DaysPastDueNotWorse\n",
        "2.   NumberOfTimes90DaysLate\n",
        "3.   age\n",
        "\n"
      ],
      "metadata": {
        "id": "1q0ndFJbGAPN"
      }
    },
    {
      "cell_type": "markdown",
      "source": [
        "# feature engineering"
      ],
      "metadata": {
        "id": "6O-zXSgZVSpj"
      }
    },
    {
      "cell_type": "code",
      "source": [
        "# create a list of F-values for the existing features\n",
        "feature_F_scores, _ = f_classif(X_train, y_train)\n",
        "\n",
        "print('------2 FEATURES MULTIPLIED-------------------------------------------------------------------------------\\n')\n",
        "# iterate through each combination of features\n",
        "for f1_index, f1 in enumerate(X_train.columns):\n",
        "  for f2_index, f2 in enumerate(X_train.columns[f1_index + 1:]):\n",
        "    # multiply the two features to create a new feature\n",
        "    new_feature = X_train[[f1]].multiply(X_train[f2], axis=0)\n",
        "    # evaluate F-value of new feature\n",
        "    F_Score_new, p_value_new = f_classif(new_feature, y_train)\n",
        "    # evaluate the relative improvement of the new feature\n",
        "    F_score_improvement = F_Score_new[0] / max(feature_F_scores[[f1_index, f2_index]])\n",
        "    # print out features that is sufficiently improved \n",
        "    if F_score_improvement >= 1.5 and F_Score_new[0] >= 75 and p_value_new < 0.05: # arbitrary values except for p-value\n",
        "        print(f'{f1} + {f2} has an F-score of {F_Score_new[0]}')\n",
        "        print(f'\\tBetter by a factor of {F_score_improvement} over features in isolation')\n",
        "        print(f'\\tThe result is significant (p = {p_value_new})\\n')\n",
        "\n",
        "print('------3 FEATURES MULTIPLIED-------------------------------------------------------------------------------\\n')\n",
        "for f1_index, f1 in enumerate(X_train.columns):\n",
        "  for f2_index, f2 in enumerate(X_train.columns[f1_index + 1:]):\n",
        "    for f3_index, f3 in enumerate(X_train.columns[f2_index + 1:]):\n",
        "    # multiply the two features to create a new feature\n",
        "      new_feature = (X_train[[f1]].multiply(X_train[f2], axis=0)).multiply(X_train[f3], axis=0)\n",
        "      # evaluate F-value of new feature\n",
        "      F_Score_new, p_value_new = f_classif(new_feature, y_train)\n",
        "      # evaluate the relative improvement of the new feature\n",
        "      F_score_improvement = F_Score_new[0] / max(feature_F_scores[[f1_index, f2_index, f3_index]])\n",
        "      # print out features that is sufficiently improved \n",
        "      if F_score_improvement >= 1.5 and F_Score_new[0] >= 75 and p_value_new < 0.05: # arbitrary values except for p-value\n",
        "          print(f'{f1} + {f2} + {f3} has an F-score of {F_Score_new[0]}')\n",
        "          print(f'\\tBetter by a factor of {F_score_improvement} over features in isolation')\n",
        "          print(f'\\tThe result is significant (p = {p_value_new})\\n')"
      ],
      "metadata": {
        "colab": {
          "base_uri": "https://localhost:8080/"
        },
        "id": "1WfJFFh3VMzs",
        "outputId": "119bbf21-100c-461a-b91d-2427291eadd4"
      },
      "execution_count": 19,
      "outputs": [
        {
          "output_type": "stream",
          "name": "stdout",
          "text": [
            "------2 FEATURES MULTIPLIED-------------------------------------------------------------------------------\n",
            "\n",
            "RevolvingUtilizationOfUnsecuredLines + NumberOfTime60-89DaysPastDueNotWorse has an F-score of 104.11287740772094\n",
            "\tBetter by a factor of 14.011498519568718 over features in isolation\n",
            "\tThe result is significant (p = [1.94661675e-24])\n",
            "\n",
            "NumberOfTime30-59DaysPastDueNotWorse + NumberOfOpenCreditLinesAndLoans has an F-score of 6651.549210138066\n",
            "\tBetter by a factor of 2.767221293185945 over features in isolation\n",
            "\tThe result is significant (p = [0.])\n",
            "\n",
            "DebtRatio + NumberOfTime60-89DaysPastDueNotWorse has an F-score of 957.1746157777818\n",
            "\tBetter by a factor of 21.68756984075747 over features in isolation\n",
            "\tThe result is significant (p = [1.67842587e-209])\n",
            "\n",
            "MonthlyIncome + NumberOfTime60-89DaysPastDueNotWorse has an F-score of 1190.98340513594\n",
            "\tBetter by a factor of 26.985186769793575 over features in isolation\n",
            "\tThe result is significant (p = [5.8599346e-260])\n",
            "\n",
            "NumberOfOpenCreditLinesAndLoans + NumberOfTimes90DaysLate has an F-score of 9038.490506390963\n",
            "\tBetter by a factor of 68.3966466168392 over features in isolation\n",
            "\tThe result is significant (p = [0.])\n",
            "\n",
            "NumberOfOpenCreditLinesAndLoans + NumberOfTime60-89DaysPastDueNotWorse has an F-score of 6261.457389700166\n",
            "\tBetter by a factor of 2.6049327258596846 over features in isolation\n",
            "\tThe result is significant (p = [0.])\n",
            "\n",
            "NumberOfTimes90DaysLate + NumberRealEstateLoansOrLines has an F-score of 3201.3395105847876\n",
            "\tBetter by a factor of 1.5331162216015781 over features in isolation\n",
            "\tThe result is significant (p = [0.])\n",
            "\n",
            "NumberRealEstateLoansOrLines + NumberOfTime60-89DaysPastDueNotWorse has an F-score of 2823.7038012835555\n",
            "\tBetter by a factor of 380.0137179615693 over features in isolation\n",
            "\tThe result is significant (p = [0.])\n",
            "\n",
            "------3 FEATURES MULTIPLIED-------------------------------------------------------------------------------\n",
            "\n",
            "RevolvingUtilizationOfUnsecuredLines + age + NumberOfTime60-89DaysPastDueNotWorse has an F-score of 100.88112920926137\n",
            "\tBetter by a factor of 13.576570235711904 over features in isolation\n",
            "\tThe result is significant (p = [9.93759966e-24])\n",
            "\n",
            "RevolvingUtilizationOfUnsecuredLines + NumberOfTimes90DaysLate + NumberOfTimes90DaysLate has an F-score of 1028.8107833293104\n",
            "\tBetter by a factor of 7.785283121469555 over features in isolation\n",
            "\tThe result is significant (p = [5.70255459e-225])\n",
            "\n",
            "RevolvingUtilizationOfUnsecuredLines + NumberOfTime60-89DaysPastDueNotWorse + NumberOfTime60-89DaysPastDueNotWorse has an F-score of 1027.7982232858842\n",
            "\tBetter by a factor of 138.32096127349524 over features in isolation\n",
            "\tThe result is significant (p = [9.43319793e-225])\n",
            "\n",
            "age + NumberOfTime30-59DaysPastDueNotWorse + NumberOfOpenCreditLinesAndLoans has an F-score of 5247.422506325265\n",
            "\tBetter by a factor of 2.592608853683438 over features in isolation\n",
            "\tThe result is significant (p = [0.])\n",
            "\n",
            "age + NumberOfOpenCreditLinesAndLoans + NumberOfTimes90DaysLate has an F-score of 7951.427501336447\n",
            "\tBetter by a factor of 3.3080052176996233 over features in isolation\n",
            "\tThe result is significant (p = [0.])\n",
            "\n",
            "age + NumberOfOpenCreditLinesAndLoans + NumberOfTime60-89DaysPastDueNotWorse has an F-score of 5304.553899640879\n",
            "\tBetter by a factor of 2.6208359224881295 over features in isolation\n",
            "\tThe result is significant (p = [0.])\n",
            "\n",
            "age + NumberOfTimes90DaysLate + NumberOfOpenCreditLinesAndLoans has an F-score of 7951.427501336447\n",
            "\tBetter by a factor of 3.9285842362679033 over features in isolation\n",
            "\tThe result is significant (p = [0.])\n",
            "\n",
            "age + NumberRealEstateLoansOrLines + NumberOfTimes90DaysLate has an F-score of 3291.976821851314\n",
            "\tBetter by a factor of 1.626476283197034 over features in isolation\n",
            "\tThe result is significant (p = [0.])\n",
            "\n",
            "DebtRatio + MonthlyIncome + NumberOfTimes90DaysLate has an F-score of 1376.9205486602923\n",
            "\tBetter by a factor of 10.419521724295842 over features in isolation\n",
            "\tThe result is significant (p = [5.05404551e-300])\n",
            "\n",
            "DebtRatio + MonthlyIncome + NumberOfTime60-89DaysPastDueNotWorse has an F-score of 1179.6042478898553\n",
            "\tBetter by a factor of 136.06810556552446 over features in isolation\n",
            "\tThe result is significant (p = [1.66547329e-257])\n",
            "\n",
            "DebtRatio + NumberRealEstateLoansOrLines + NumberOfTime60-89DaysPastDueNotWorse has an F-score of 292.3602498057327\n",
            "\tBetter by a factor of 6.624270255193605 over features in isolation\n",
            "\tThe result is significant (p = [1.75589077e-65])\n",
            "\n",
            "DebtRatio + NumberOfTime60-89DaysPastDueNotWorse + NumberOfOpenCreditLinesAndLoans has an F-score of 503.04514150753636\n",
            "\tBetter by a factor of 11.39794814829403 over features in isolation\n",
            "\tThe result is significant (p = [3.15427892e-111])\n",
            "\n",
            "DebtRatio + NumberOfTime60-89DaysPastDueNotWorse + NumberOfTime60-89DaysPastDueNotWorse has an F-score of 170.00361566692806\n",
            "\tBetter by a factor of 3.8519254764835513 over features in isolation\n",
            "\tThe result is significant (p = [7.75400294e-39])\n",
            "\n",
            "DebtRatio + NumberOfTime60-89DaysPastDueNotWorse + NumberOfDependents has an F-score of 159.08670458004178\n",
            "\tBetter by a factor of 3.6045711612525757 over features in isolation\n",
            "\tThe result is significant (p = [1.86952642e-36])\n",
            "\n",
            "DebtRatio + NumberOfDependents + NumberOfTimes90DaysLate has an F-score of 231.00405511927124\n",
            "\tBetter by a factor of 1.7480687415534484 over features in isolation\n",
            "\tThe result is significant (p = [3.93818974e-52])\n",
            "\n",
            "MonthlyIncome + NumberOfOpenCreditLinesAndLoans + NumberOfTimes90DaysLate has an F-score of 3687.3821270448234\n",
            "\tBetter by a factor of 27.903395163872123 over features in isolation\n",
            "\tThe result is significant (p = [0.])\n",
            "\n",
            "MonthlyIncome + NumberOfOpenCreditLinesAndLoans + NumberOfTime60-89DaysPastDueNotWorse has an F-score of 1740.941554928484\n",
            "\tBetter by a factor of 39.44608532112811 over features in isolation\n",
            "\tThe result is significant (p = [0.])\n",
            "\n",
            "MonthlyIncome + NumberOfTimes90DaysLate + NumberOfOpenCreditLinesAndLoans has an F-score of 3687.3821270448234\n",
            "\tBetter by a factor of 1.8218352987522703 over features in isolation\n",
            "\tThe result is significant (p = [0.])\n",
            "\n",
            "MonthlyIncome + NumberOfTime60-89DaysPastDueNotWorse + NumberRealEstateLoansOrLines has an F-score of 668.4558877474257\n",
            "\tBetter by a factor of 15.145808833644939 over features in isolation\n",
            "\tThe result is significant (p = [4.55874007e-147])\n",
            "\n",
            "MonthlyIncome + NumberOfTime60-89DaysPastDueNotWorse + NumberOfTime60-89DaysPastDueNotWorse has an F-score of 655.1241865447898\n",
            "\tBetter by a factor of 14.84374043759441 over features in isolation\n",
            "\tThe result is significant (p = [3.51085448e-144])\n",
            "\n",
            "MonthlyIncome + NumberOfDependents + NumberOfTime60-89DaysPastDueNotWorse has an F-score of 94.67001243139646\n",
            "\tBetter by a factor of 2.1450239826543327 over features in isolation\n",
            "\tThe result is significant (p = [2.28376053e-22])\n",
            "\n",
            "NumberOfOpenCreditLinesAndLoans + NumberOfTimes90DaysLate + age has an F-score of 7951.427501336447\n",
            "\tBetter by a factor of 60.17055353698474 over features in isolation\n",
            "\tThe result is significant (p = [0.])\n",
            "\n",
            "NumberOfOpenCreditLinesAndLoans + NumberOfTimes90DaysLate + MonthlyIncome has an F-score of 3687.3821270448234\n",
            "\tBetter by a factor of 27.903395163872123 over features in isolation\n",
            "\tThe result is significant (p = [0.])\n",
            "\n",
            "NumberOfOpenCreditLinesAndLoans + NumberOfTimes90DaysLate + NumberOfOpenCreditLinesAndLoans has an F-score of 3265.643181132752\n",
            "\tBetter by a factor of 24.711985090728824 over features in isolation\n",
            "\tThe result is significant (p = [0.])\n",
            "\n",
            "NumberOfOpenCreditLinesAndLoans + NumberOfTimes90DaysLate + NumberOfTimes90DaysLate has an F-score of 863.0795303739694\n",
            "\tBetter by a factor of 6.531150926083906 over features in isolation\n",
            "\tThe result is significant (p = [3.60120822e-189])\n",
            "\n",
            "NumberOfOpenCreditLinesAndLoans + NumberOfTimes90DaysLate + NumberOfDependents has an F-score of 3482.377161251812\n",
            "\tBetter by a factor of 2.196878271658271 over features in isolation\n",
            "\tThe result is significant (p = [0.])\n",
            "\n",
            "NumberOfOpenCreditLinesAndLoans + NumberOfDependents + NumberOfTime60-89DaysPastDueNotWorse has an F-score of 3081.6867727712674\n",
            "\tBetter by a factor of 23.319938327311093 over features in isolation\n",
            "\tThe result is significant (p = [0.])\n",
            "\n",
            "NumberOfTimes90DaysLate + NumberRealEstateLoansOrLines + age has an F-score of 3291.976821851314\n",
            "\tBetter by a factor of 1.576522280760758 over features in isolation\n",
            "\tThe result is significant (p = [0.])\n",
            "\n",
            "NumberRealEstateLoansOrLines + NumberOfTime60-89DaysPastDueNotWorse + age has an F-score of 2308.768409791662\n",
            "\tBetter by a factor of 310.7137749073862 over features in isolation\n",
            "\tThe result is significant (p = [0.])\n",
            "\n",
            "NumberRealEstateLoansOrLines + NumberOfTime60-89DaysPastDueNotWorse + MonthlyIncome has an F-score of 668.4558877474257\n",
            "\tBetter by a factor of 77.10681481744375 over features in isolation\n",
            "\tThe result is significant (p = [4.55874007e-147])\n",
            "\n",
            "NumberRealEstateLoansOrLines + NumberOfTime60-89DaysPastDueNotWorse + NumberOfOpenCreditLinesAndLoans has an F-score of 645.2084689613758\n",
            "\tBetter by a factor of 14.61907106790289 over features in isolation\n",
            "\tThe result is significant (p = [4.92695153e-142])\n",
            "\n",
            "NumberRealEstateLoansOrLines + NumberOfTime60-89DaysPastDueNotWorse + NumberOfTimes90DaysLate has an F-score of 463.82188045869384\n",
            "\tBetter by a factor of 3.509862761758694 over features in isolation\n",
            "\tThe result is significant (p = [1.01451812e-102])\n",
            "\n",
            "NumberRealEstateLoansOrLines + NumberOfTime60-89DaysPastDueNotWorse + NumberOfTime60-89DaysPastDueNotWorse has an F-score of 531.6635128395635\n",
            "\tBetter by a factor of 71.55121161321209 over features in isolation\n",
            "\tThe result is significant (p = [1.96757966e-117])\n",
            "\n",
            "NumberOfTime60-89DaysPastDueNotWorse + NumberOfDependents + NumberOfOpenCreditLinesAndLoans has an F-score of 3081.6867727712674\n",
            "\tBetter by a factor of 1.944100365258612 over features in isolation\n",
            "\tThe result is significant (p = [0.])\n",
            "\n"
          ]
        }
      ]
    },
    {
      "cell_type": "markdown",
      "source": [
        "**2 features** <br> \n",
        "*1.* NumberRealEstateLoansOrLines + NumberOfTime60-89DaysPastDueNotWorse has an \n",
        "F-score of 2823.7038012835555 <br>\n",
        "Better by a factor of 380.0137179615693 over features in isolation <br> <br>\n",
        "\n",
        "**3 features** <br> \n",
        "*1.* NumberRealEstateLoansOrLines + NumberOfTime60-89DaysPastDueNotWorse + age has an F-score of 2308.768409791662 <br>\n",
        "Better by a factor of 310.7137749073862 over features in isolation <br> <br>\n",
        "*2.* RevolvingUtilizationOfUnsecuredLines + NumberOfTime60-89DaysPastDueNotWorse + NumberOfTime60-89DaysPastDueNotWorse has an F-score of 1027.7982232858842 <br>\n",
        "Better by a factor of 138.32096127349524 over features in isolation <br> <br>\n",
        "\t\n",
        "*3.* DebtRatio + MonthlyIncome + NumberOfTime60-89DaysPastDueNotWorse has an F-score of 1179.6042478898553 <br>\n",
        "Better by a factor of 136.06810556552446 over features in isolation\n",
        "\n"
      ],
      "metadata": {
        "id": "wKba7zV8A1iv"
      }
    },
    {
      "cell_type": "markdown",
      "source": [
        "***The most significant interaction effect is between NumberRealStateLoansOrLines and NumberOfTime60-89DaysPastDueNotWorse***"
      ],
      "metadata": {
        "id": "f7rUEnn2DRmK"
      }
    },
    {
      "cell_type": "markdown",
      "source": [
        "# analysis"
      ],
      "metadata": {
        "id": "hIg0Fv_rrJLp"
      }
    },
    {
      "cell_type": "markdown",
      "source": [
        "## age"
      ],
      "metadata": {
        "id": "WjRfpr_gvB0c"
      }
    },
    {
      "cell_type": "code",
      "source": [
        "train_df[train_df.SeriousDlqin2yrs == 1]\n",
        "\n",
        "sns.displot(data=train_df[train_df.SeriousDlqin2yrs == 1]['age'], kde=True)\n",
        "\n",
        "# Format axis labels \n",
        "plt.title('age of defaultees histogram')\n",
        "plt.ylabel('count')\n",
        "plt.xlabel('age')\n",
        "plt.show() \n",
        "\n",
        "print(f'mean age of defaultees: {train_df[train_df.SeriousDlqin2yrs == 1][\"age\"].sum()/len(train_df[train_df.SeriousDlqin2yrs == 1]):.2f}')"
      ],
      "metadata": {
        "id": "nvlhEixYrKuh",
        "colab": {
          "base_uri": "https://localhost:8080/",
          "height": 402
        },
        "outputId": "746c9d60-4be2-4429-f73a-d8a0ba22e5fa"
      },
      "execution_count": 20,
      "outputs": [
        {
          "output_type": "display_data",
          "data": {
            "text/plain": [
              "<Figure size 360x360 with 1 Axes>"
            ],
            "image/png": "[encoded data removed]"
          },
          "metadata": {
            "needs_background": "light"
          }
        },
        {
          "output_type": "stream",
          "name": "stdout",
          "text": [
            "mean age of defaultees: 45.93\n"
          ]
        }
      ]
    },
    {
      "cell_type": "code",
      "source": [
        "sns.displot(data=train_df,x = 'age', hue = 'SeriousDlqin2yrs', kind='hist')\n",
        "\n",
        "# Format plot area \n",
        "plt.title('age/default histograms')\n",
        "plt.ylabel('count')\n",
        "plt.xlabel('age')\n",
        "plt.show()"
      ],
      "metadata": {
        "colab": {
          "base_uri": "https://localhost:8080/",
          "height": 385
        },
        "id": "kw2OpFNAvDxx",
        "outputId": "03f66d22-cae5-4b60-dfc1-8b752a72d3c6"
      },
      "execution_count": 21,
      "outputs": [
        {
          "output_type": "display_data",
          "data": {
            "text/plain": [
              "<Figure size 452.875x360 with 1 Axes>"
            ],
            "image/png": "[encoded data removed]"
          },
          "metadata": {
            "needs_background": "light"
          }
        }
      ]
    },
    {
      "cell_type": "code",
      "source": [
        "# find the probability for default for each age then plot it, compare it to the previous graphs because although the mean age for default is 45, \n",
        "# since there are so many 45 year olds applying for loans and less <45 year olds, maybe younger people have a greater chance of defaulting\n",
        "\n",
        "prob_dict = {}\n",
        "\n",
        "for i in train_df.groupby('age').size().index:\n",
        "  if (i in train_df[train_df['SeriousDlqin2yrs'] == 1].groupby('age').size().index):\n",
        "    probability = train_df[train_df['SeriousDlqin2yrs'] == 1].groupby('age').size()[i] / train_df.groupby('age').size()[i]\n",
        "    prob_dict[i] = probability\n",
        "  else: \n",
        "    prob_dict[i] = 0\n",
        "\n",
        "probs = pd.Series(prob_dict)\n",
        "probs = probs.sort_values(ascending = False)\n",
        "probs = probs.to_dict()\n",
        "print(probs)\n",
        "\n",
        "\n"
      ],
      "metadata": {
        "id": "aR7vV_uXvXlZ",
        "colab": {
          "base_uri": "https://localhost:8080/"
        },
        "outputId": "0be40f41-ddef-43ac-bf4e-577af845f7da"
      },
      "execution_count": 22,
      "outputs": [
        {
          "output_type": "stream",
          "name": "stdout",
          "text": [
            "{101: 0.3333333333333333, 99: 0.2222222222222222, 28: 0.13141025641025642, 25: 0.12696747114375656, 27: 0.12406576980568013, 26: 0.12321877619446772, 24: 0.12009803921568628, 32: 0.11365853658536586, 33: 0.10987047789191604, 23: 0.10920436817472699, 30: 0.10789881259679918, 35: 0.10730186999109528, 31: 0.10647693817468105, 29: 0.10517038777908343, 36: 0.09962168978562422, 34: 0.09744779582366589, 41: 0.09417040358744394, 42: 0.09377027903958468, 39: 0.0937395379979913, 37: 0.09004363347877826, 38: 0.08931965032307107, 46: 0.08723747980613894, 43: 0.08603491271820449, 40: 0.08535402521823472, 22: 0.08294930875576037, 47: 0.08228018284485077, 49: 0.08157414646859526, 45: 0.08109651627641348, 52: 0.07675256303685231, 51: 0.07526881720430108, 48: 0.07514450867052024, 50: 0.07434052757793765, 44: 0.0734669095324833, 53: 0.07236842105263158, 21: 0.07103825136612021, 54: 0.06852007862959843, 55: 0.06440281030444965, 56: 0.05767623293396489, 57: 0.05422222222222222, 59: 0.05091463414634146, 61: 0.04968767745599091, 58: 0.04763287830380482, 60: 0.04604051565377532, 62: 0.04568385650224215, 63: 0.03656897015326701, 65: 0.03546646106399383, 89: 0.03260869565217391, 91: 0.032467532467532464, 66: 0.03207698476343224, 67: 0.031562125449460646, 64: 0.030739045127534337, 82: 0.02936630602782071, 70: 0.029262802476083285, 72: 0.027895694360218316, 73: 0.02763157894736842, 74: 0.026878015161957272, 88: 0.025559105431309903, 71: 0.02551640340218712, 78: 0.022770398481973434, 79: 0.022426095820591234, 87: 0.022408963585434174, 95: 0.022222222222222223, 80: 0.021689497716894976, 94: 0.02127659574468085, 68: 0.02058165548098434, 76: 0.02028740490278952, 83: 0.01953125, 85: 0.018633540372670808, 69: 0.01791197543500512, 75: 0.017727639000805803, 84: 0.016666666666666666, 77: 0.01637852593266606, 90: 0.015151515151515152, 86: 0.014742014742014743, 81: 0.011627906976744186, 93: 0.011494252873563218, 107: 0.0, 105: 0.0, 103: 0.0, 102: 0.0, 0: 0.0, 98: 0.0, 97: 0.0, 96: 0.0, 92: 0.0, 109: 0.0}\n"
          ]
        }
      ]
    },
    {
      "cell_type": "markdown",
      "source": [
        "Besides ages 101 and 99 which I believe are outliers, in general, the percentage of defaulting by age decreases as age increases."
      ],
      "metadata": {
        "id": "q5LErtgnAsx_"
      }
    }
  ]
}